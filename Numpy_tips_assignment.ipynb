{
 "cells": [
  {
   "cell_type": "code",
   "execution_count": 1,
   "id": "8e191f1b",
   "metadata": {},
   "outputs": [],
   "source": [
    "import numpy as np"
   ]
  },
  {
   "cell_type": "code",
   "execution_count": 2,
   "id": "1ca96cca",
   "metadata": {},
   "outputs": [],
   "source": [
    "ar = np.genfromtxt(r\"C:\\Users\\Sathish\\Downloads\\tipsf (1).csv\",dtype=object,delimiter=\",\",skip_header=1)\n"
   ]
  },
  {
   "cell_type": "code",
   "execution_count": 3,
   "id": "6b32aa8d",
   "metadata": {},
   "outputs": [
    {
     "data": {
      "text/plain": [
       "array([[b'0', b'16.99', b'1.01', ..., b'1', b'0', b'2'],\n",
       "       [b'1', b'10.34', b'1.66', ..., b'1', b'0', b'3'],\n",
       "       [b'2', b'21.01', b'3.5', ..., b'1', b'0', b'3'],\n",
       "       ...,\n",
       "       [b'241', b'22.67', b'2.0', ..., b'0', b'0', b'2'],\n",
       "       [b'242', b'17.82', b'1.75', ..., b'0', b'0', b'2'],\n",
       "       [b'243', b'18.78', b'3.0', ..., b'2', b'0', b'2']], dtype=object)"
      ]
     },
     "execution_count": 3,
     "metadata": {},
     "output_type": "execute_result"
    }
   ],
   "source": [
    "ar"
   ]
  },
  {
   "cell_type": "markdown",
   "id": "53b414a7",
   "metadata": {},
   "source": [
    "1.What is the total bill value? "
   ]
  },
  {
   "cell_type": "code",
   "execution_count": 4,
   "id": "ad5b802a",
   "metadata": {},
   "outputs": [],
   "source": [
    "total = np.sum(ar,dtype=float,axis=0)"
   ]
  },
  {
   "cell_type": "code",
   "execution_count": 5,
   "id": "f4560d23",
   "metadata": {},
   "outputs": [
    {
     "data": {
      "text/plain": [
       "array([29646.  ,  4827.77,   731.58,   157.  ,    93.  ,   257.  ,\n",
       "          68.  ,   627.  ])"
      ]
     },
     "execution_count": 5,
     "metadata": {},
     "output_type": "execute_result"
    }
   ],
   "source": [
    "total"
   ]
  },
  {
   "cell_type": "code",
   "execution_count": 6,
   "id": "1664d9ed",
   "metadata": {},
   "outputs": [],
   "source": [
    "total_bill = total[1]"
   ]
  },
  {
   "cell_type": "code",
   "execution_count": 7,
   "id": "62e51da4",
   "metadata": {},
   "outputs": [
    {
     "name": "stdout",
     "output_type": "stream",
     "text": [
      "total_bill : 4827.770000000001\n"
     ]
    }
   ],
   "source": [
    "print(\"total_bill :\",total_bill)"
   ]
  },
  {
   "cell_type": "markdown",
   "id": "d709a368",
   "metadata": {},
   "source": [
    "2.What is the total tip value?"
   ]
  },
  {
   "cell_type": "code",
   "execution_count": 8,
   "id": "143244cf",
   "metadata": {},
   "outputs": [],
   "source": [
    "total_tip = total[2]"
   ]
  },
  {
   "cell_type": "code",
   "execution_count": 9,
   "id": "b7ab303c",
   "metadata": {
    "scrolled": true
   },
   "outputs": [
    {
     "name": "stdout",
     "output_type": "stream",
     "text": [
      "total_tip values is : 731.58\n"
     ]
    }
   ],
   "source": [
    "print(\"total_tip values is :\",total_tip)"
   ]
  },
  {
   "cell_type": "markdown",
   "id": "5bc4dd06",
   "metadata": {},
   "source": [
    "3.Count how many sundays,saturdays,thursdays and fridays are there?"
   ]
  },
  {
   "cell_type": "code",
   "execution_count": 144,
   "id": "ea33bcab",
   "metadata": {},
   "outputs": [
    {
     "name": "stdout",
     "output_type": "stream",
     "text": [
      " Sundays are 76 \n",
      " Saturdays are 87\n",
      " Thursdays are 62\n",
      " Fridays are 19\n"
     ]
    }
   ],
   "source": [
    "l = np.shape(ar)[0]\n",
    "count_sun = 0\n",
    "count_sat = 0\n",
    "count_thur = 0\n",
    "count_fri = 0\n",
    "for x in range(l):\n",
    "    if int(ar[x,5])==0:\n",
    "        count_sat+=1\n",
    "    elif int(ar[x,5])==1:\n",
    "        count_sun+=1\n",
    "    elif int(ar[x,5])==2:\n",
    "        count_thur+=1\n",
    "    elif int(ar[x,5])==3:\n",
    "        count_fri+=1\n",
    "    else:\n",
    "        continue\n",
    "print(\" Sundays are {} \\n Saturdays are {}\\n Thursdays are {}\\n Fridays are {}\".format(count_sun,count_sat,count_thur,count_fri))"
   ]
  },
  {
   "cell_type": "markdown",
   "id": "8bd2de4a",
   "metadata": {},
   "source": [
    "4.How many smokers are there?"
   ]
  },
  {
   "cell_type": "code",
   "execution_count": 11,
   "id": "cdeff85d",
   "metadata": {},
   "outputs": [
    {
     "name": "stdout",
     "output_type": "stream",
     "text": [
      "Smokers are : 93\n"
     ]
    }
   ],
   "source": [
    "smoke = np.shape(ar)[0]\n",
    "count_smokers = 0\n",
    "for x in range(smoke):\n",
    "    if int(ar[x,4])==1:\n",
    "        count_smokers += 1\n",
    "    else:\n",
    "        continue\n",
    "print(\"Smokers are :\",count_smokers)"
   ]
  },
  {
   "cell_type": "markdown",
   "id": "c6d8e862",
   "metadata": {},
   "source": [
    "5.what is the avg tip given by the female and male?"
   ]
  },
  {
   "cell_type": "code",
   "execution_count": 40,
   "id": "3df93c49",
   "metadata": {},
   "outputs": [
    {
     "name": "stdout",
     "output_type": "stream",
     "text": [
      "Average tip given by female is 2.833448275862069\n",
      "Average tip given by male is 3.0896178343949052\n"
     ]
    }
   ],
   "source": [
    "le=np.shape(ar)[0]\n",
    "m_tip=0\n",
    "f_tip=0\n",
    "female=0\n",
    "for x in range(le):\n",
    "    if int(ar[x,3])==0:\n",
    "        female+=1\n",
    "        f_tip+=float(ar[x,2])\n",
    "    else:\n",
    "        m_tip+=float(ar[x,2])\n",
    "        \n",
    "avg_f_tip=f_tip/female\n",
    "avg_m_tip=m_tip/(le-female)\n",
    "print(\"Average tip given by female is {}\\nAverage tip given by male is {}\".format(avg_f_tip,avg_m_tip))"
   ]
  },
  {
   "cell_type": "markdown",
   "id": "377f2da0",
   "metadata": {},
   "source": [
    "6.How much amount have been spent by female and male?"
   ]
  },
  {
   "cell_type": "code",
   "execution_count": 39,
   "id": "b8c856f9",
   "metadata": {},
   "outputs": [
    {
     "name": "stdout",
     "output_type": "stream",
     "text": [
      "Female total money spend 1817.4600000000005\n",
      " Male total money spend 3741.8900000000017\n"
     ]
    }
   ],
   "source": [
    "le = np.shape(ar)[0]\n",
    "f_spend = 0\n",
    "m_spend = 0\n",
    "for x in range(le):\n",
    "    if int(ar[x,3])==0:\n",
    "\n",
    "        f_spend += float(ar[x,1]) + float(ar[x,2])\n",
    "        \n",
    "    elif int(ar[x,3])==1:\n",
    "        c += 1\n",
    "        m_spend += float(ar[x,1]) + float(ar[x,2])\n",
    "\n",
    "print(\"Female total money spend {}\\n Male total money spend {}\".format(f_spend,m_spend))\n",
    "        "
   ]
  },
  {
   "cell_type": "raw",
   "id": "5844d852",
   "metadata": {},
   "source": [
    "7.What is the min and max tip given?"
   ]
  },
  {
   "cell_type": "code",
   "execution_count": 55,
   "id": "7cc07577",
   "metadata": {},
   "outputs": [
    {
     "name": "stdout",
     "output_type": "stream",
     "text": [
      "min of tip is : 1.0\n",
      " max of tip 9.0\n"
     ]
    }
   ],
   "source": [
    "mi = float(np.min(ar[:,2]))\n",
    "mx = float(np.max(ar[:,2]))\n",
    "print(\"min of tip is : {}\\n max of tip {}\".format(mi,mx))"
   ]
  },
  {
   "cell_type": "markdown",
   "id": "19bd8cc9",
   "metadata": {},
   "source": [
    "8.How many male and females are going for dinner and lunch?"
   ]
  },
  {
   "cell_type": "code",
   "execution_count": 109,
   "id": "e4561381",
   "metadata": {},
   "outputs": [
    {
     "name": "stdout",
     "output_type": "stream",
     "text": [
      " Male dinner 124\n",
      " Male lunch 33\n",
      " Female dinner 52\n",
      " Female lunch 35\n"
     ]
    }
   ],
   "source": [
    "le = np.shape(ar)[0]\n",
    "male_dinner = 0\n",
    "male_lunch = 0\n",
    "female_dinner = 0\n",
    "female_lunch = 0\n",
    "c = 0\n",
    "for x in range(le):\n",
    "    if int(ar[x,3])==1:\n",
    "        male_dinner += int(ar[x,6])==0\n",
    "        male_lunch += int(ar[x,6])==1\n",
    "    elif int(ar[x,3])==0:\n",
    "        female_dinner += int(ar[x,6])==0\n",
    "        female_lunch += int(ar[x,6])==1\n",
    "print(\" Male dinner {}\\n Male lunch {}\\n Female dinner {}\\n Female lunch {}\".format(male_dinner,male_lunch,female_dinner,female_lunch))"
   ]
  },
  {
   "cell_type": "raw",
   "id": "2cff6778",
   "metadata": {},
   "source": [
    "9.Find out the avg size?"
   ]
  },
  {
   "cell_type": "code",
   "execution_count": 140,
   "id": "de93aea0",
   "metadata": {},
   "outputs": [
    {
     "name": "stdout",
     "output_type": "stream",
     "text": [
      "Average value is : 2.569672131147541\n"
     ]
    }
   ],
   "source": [
    "avg_size = np.mean(ar,dtype=float,axis=0)[7]\n",
    "print(\"Average value is :\",avg_size)"
   ]
  },
  {
   "cell_type": "markdown",
   "id": "a156b501",
   "metadata": {},
   "source": [
    "10.How many male and female smokers are there?"
   ]
  },
  {
   "cell_type": "code",
   "execution_count": 133,
   "id": "c91294ee",
   "metadata": {},
   "outputs": [
    {
     "name": "stdout",
     "output_type": "stream",
     "text": [
      " Male smokers 60\n",
      " Female smokers 33\n"
     ]
    }
   ],
   "source": [
    "le = np.shape(ar)[0]\n",
    "male_smokers = 0\n",
    "female_smokers = 0\n",
    "for x in range(le):\n",
    "    if int(ar[x,3])==1:\n",
    "        male_smokers += int(ar[x,4])==1\n",
    "    elif int(ar[x,3])==0:\n",
    "        female_smokers += int(ar[x,4])==1\n",
    "print(\" Male smokers {}\\n Female smokers {}\".format(male_smokers,female_smokers))"
   ]
  }
 ],
 "metadata": {
  "kernelspec": {
   "display_name": "Python 3 (ipykernel)",
   "language": "python",
   "name": "python3"
  },
  "language_info": {
   "codemirror_mode": {
    "name": "ipython",
    "version": 3
   },
   "file_extension": ".py",
   "mimetype": "text/x-python",
   "name": "python",
   "nbconvert_exporter": "python",
   "pygments_lexer": "ipython3",
   "version": "3.10.9"
  }
 },
 "nbformat": 4,
 "nbformat_minor": 5
}
